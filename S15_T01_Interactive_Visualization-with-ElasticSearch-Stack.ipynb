{
 "cells": [
  {
   "cell_type": "markdown",
   "metadata": {},
   "source": [
    "# Sprint 15.- Interactive Visualization with ElasticSearch Stack\n",
    "\n",
    "## Description\n",
    "We begin to familiarize ourselves with the interactive visualization of graphics using Kibana.\n",
    "\n",
    "Level 1\n",
    "\n",
    "- Exercise 1\n",
    "Download Kibana and show some graphs using sample data sets.\n",
    "\n",
    "Level 2\n",
    "\n",
    "- Exercise 1\n",
    "Implement a dashboard that interactively visualizes the data you choose.\n",
    "\n",
    "Level 3\n",
    "\n",
    "- Exercise 1\n",
    "Implement a dashboard that generates graphs using each of the different types of graphs offered by Kibana.\n"
   ]
  },
  {
   "cell_type": "markdown",
   "metadata": {},
   "source": [
    "## Level 1\n",
    "\n",
    "### - Exercise 1\n",
    "Download Kibana and show some graphs using sample data sets.\n"
   ]
  },
  {
   "cell_type": "markdown",
   "metadata": {},
   "source": [
    "\n",
    "## Level 2\n",
    "\n",
    "### - Exercise 1\n",
    "Implement a dashboard that interactively visualizes the data you choose.\n"
   ]
  },
  {
   "cell_type": "markdown",
   "metadata": {},
   "source": [
    "\n",
    "## Level 3\n",
    "\n",
    "### - Exercise 1\n",
    "Implement a dashboard that generates graphs using each of the different types of graphs offered by Kibana."
   ]
  }
 ],
 "metadata": {
  "language_info": {
   "name": "python"
  },
  "orig_nbformat": 4
 },
 "nbformat": 4,
 "nbformat_minor": 2
}

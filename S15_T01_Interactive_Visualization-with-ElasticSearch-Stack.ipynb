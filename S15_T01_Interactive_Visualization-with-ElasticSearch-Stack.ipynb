{
 "cells": [
  {
   "cell_type": "markdown",
   "metadata": {},
   "source": [
    "# Sprint 15.- Interactive Visualization with ElasticSearch Stack\n",
    "\n",
    "## Description\n",
    "We begin to familiarize ourselves with the interactive visualization of graphics using Kibana.\n",
    "\n",
    "Level 1\n",
    "\n",
    "- Exercise 1\n",
    "Download Kibana and show some graphs using sample data sets.\n",
    "\n",
    "Level 2\n",
    "\n",
    "- Exercise 1\n",
    "Implement a dashboard that interactively visualizes the data you choose.\n",
    "\n",
    "Level 3\n",
    "\n",
    "- Exercise 1\n",
    "Implement a dashboard that generates graphs using each of the different types of graphs offered by Kibana.\n"
   ]
  },
  {
   "cell_type": "markdown",
   "metadata": {},
   "source": [
    "## Level 1\n",
    "\n",
    "### - Exercise 1\n",
    "Download Kibana and show some graphs using sample data sets.\n"
   ]
  },
  {
   "cell_type": "markdown",
   "metadata": {},
   "source": [
    "First, we have installed kibana and elasticsearch locally, and navigated to kibana home in browser.  \n",
    "![](2022-04-10-17-31-30.png)\n",
    "### Solution:\n",
    "\n",
    "#### Sample Flight data  \n",
    "#### Dashboard:\n",
    "#### FLIGHTS:\n",
    "![](2022-04-10-17-34-16.png)\n",
    "![](2022-04-10-17-35-09.png)\n",
    "![](2022-04-10-17-35-27.png)\n",
    "![](2022-04-10-17-36-35.png)\n",
    "#### E-COMMERCE:\n",
    "![](2022-04-10-17-49-35.png)\n",
    "![](2022-04-10-17-49-56.png)\n"
   ]
  },
  {
   "cell_type": "markdown",
   "metadata": {},
   "source": [
    "#### Canvas:\n",
    "#### FLIGHTS:\n",
    "![](2022-04-10-17-37-49.png)\n",
    "#### E-COMMERCE:\n",
    "![](2022-04-10-17-48-32.png)"
   ]
  },
  {
   "cell_type": "markdown",
   "metadata": {},
   "source": [
    "#### Map:\n",
    "#### FLIGHTS:\n",
    "![](2022-04-10-17-40-46.png)\n",
    "![](2022-04-10-17-41-02.png)\n",
    "#### E-COMMERCE:\n",
    "![](2022-04-10-17-52-11.png)"
   ]
  },
  {
   "cell_type": "markdown",
   "metadata": {},
   "source": [
    "#### Observation:\n",
    "\n",
    "This is better than any graph or map that we could do with Python. So, I guess this was the lesson to be learnt. Better use a tool like Kibana (free) or PowerBi or Tableau if you want professional outputs than using only Seaborn libraries in Python (or similar)"
   ]
  },
  {
   "cell_type": "markdown",
   "metadata": {},
   "source": [
    "\n",
    "## Level 2\n",
    "\n",
    "### - Exercise 1\n",
    "Implement a dashboard that interactively visualizes the data you choose.\n"
   ]
  },
  {
   "cell_type": "markdown",
   "metadata": {},
   "source": [
    "#### Observation:\n",
    "We can do our own dashboard, but the dashboard already on sample data is quite impressive.\n",
    "\n",
    "Let's do it for the e-commerce sample data:\n"
   ]
  },
  {
   "cell_type": "markdown",
   "metadata": {},
   "source": [
    "![](2022-04-10-20-23-12.png)  \n",
    "\n",
    "Below the sample dashboards that reacts when you click on one bar.\n",
    "\n",
    "![](2022-04-10-20-23-48.png)  \n",
    "![](2022-04-10-20-24-15.png)  \n"
   ]
  },
  {
   "cell_type": "markdown",
   "metadata": {},
   "source": [
    "\n",
    "## Level 3\n",
    "\n",
    "### - Exercise 1\n",
    "Implement a dashboard that generates graphs using each of the different types of graphs offered by Kibana."
   ]
  }
 ],
 "metadata": {
  "language_info": {
   "name": "python"
  },
  "orig_nbformat": 4
 },
 "nbformat": 4,
 "nbformat_minor": 2
}
